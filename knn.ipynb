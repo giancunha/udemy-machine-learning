{
 "cells": [
  {
   "cell_type": "code",
   "execution_count": null,
   "metadata": {},
   "outputs": [],
   "source": [
    "from sklearn.neighbors import KNeighborsClassifier\n",
    "from sklearn.metrics import accuracy_score, precision_score, recall_score, f1_score, confusion_matrix\n",
    "import pandas as pd\n",
    "import numpy as np"
   ]
  },
  {
   "cell_type": "code",
   "execution_count": null,
   "metadata": {},
   "outputs": [],
   "source": [
    "mtcars = pd.read_csv('mt_cars.csv')\n",
    "mtcars.head()"
   ]
  },
  {
   "cell_type": "code",
   "execution_count": null,
   "metadata": {},
   "outputs": [],
   "source": [
    "X = mtcars[['mpg', 'hp']].values\n",
    "y = mtcars['cyl'].values"
   ]
  },
  {
   "cell_type": "code",
   "execution_count": null,
   "metadata": {},
   "outputs": [],
   "source": [
    "knn = KNeighborsClassifier(n_neighbors=3)\n",
    "modelo = knn.fit(X, y)"
   ]
  },
  {
   "cell_type": "code",
   "execution_count": null,
   "metadata": {},
   "outputs": [],
   "source": [
    "modelo"
   ]
  },
  {
   "cell_type": "code",
   "execution_count": null,
   "metadata": {},
   "outputs": [],
   "source": [
    "y_prev = modelo.predict(X)\n",
    "print(y_prev)"
   ]
  },
  {
   "cell_type": "code",
   "execution_count": null,
   "metadata": {},
   "outputs": [],
   "source": [
    "accuracy = accuracy_score(y, y_prev)\n",
    "precision = precision_score(y, y_prev, average='weighted')\n",
    "recall = recall_score(y, y_prev, average='weighted')\n",
    "f1 = f1_score(y, y_prev, average='weighted')\n",
    "cm = confusion_matrix(y, y_prev)\n",
    "\n",
    "print(f'Acurácia: {accuracy}, Precisão: {precision}, Recall: {recall}, F1: {f1}')\n",
    "print('Matriz de confusão:\\n', cm)"
   ]
  },
  {
   "cell_type": "code",
   "execution_count": null,
   "metadata": {},
   "outputs": [],
   "source": [
    "#'mpg', 'hp'\n",
    "new_data = np.array([[19.3, 105]])\n",
    "\n",
    "previsao = modelo.predict(new_data)\n",
    "print(f'Previsão: {previsao}')\n",
    "\n",
    "distances, indices = modelo.kneighbors(new_data)\n",
    "print(f'Distâncias: {distances}')\n",
    "print(f'Índices: {indices}')"
   ]
  },
  {
   "cell_type": "code",
   "execution_count": null,
   "metadata": {},
   "outputs": [],
   "source": [
    "mtcars.loc[[1,5,31], [\"cyl\", \"mpg\", \"hp\"]]"
   ]
  }
 ],
 "metadata": {
  "kernelspec": {
   "display_name": "Python 3",
   "language": "python",
   "name": "python3"
  },
  "language_info": {
   "codemirror_mode": {
    "name": "ipython",
    "version": 3
   },
   "file_extension": ".py",
   "mimetype": "text/x-python",
   "name": "python",
   "nbconvert_exporter": "python",
   "pygments_lexer": "ipython3",
   "version": "3.11.5"
  }
 },
 "nbformat": 4,
 "nbformat_minor": 2
}
