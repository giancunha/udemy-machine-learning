{
 "cells": [
  {
   "cell_type": "code",
   "execution_count": null,
   "metadata": {},
   "outputs": [],
   "source": [
    "from sklearn import datasets\n",
    "from sklearn.metrics import confusion_matrix\n",
    "from sklearn.cluster import KMeans, AgglomerativeClustering, DBSCAN\n",
    "import matplotlib.pyplot as plt\n",
    "from scipy.cluster.hierarchy import linkage, dendrogram"
   ]
  },
  {
   "cell_type": "code",
   "execution_count": null,
   "metadata": {},
   "outputs": [],
   "source": [
    "iris = datasets.load_iris()\n",
    "iris"
   ]
  },
  {
   "cell_type": "code",
   "execution_count": null,
   "metadata": {},
   "outputs": [],
   "source": [
    "def  plot_clusters(data, labels, title):\n",
    "    colors = ['red', 'green', 'purple', 'black']\n",
    "    plt.figure(figsize=(8,4))\n",
    "    for i,c,l in zip(range(-1,3), colors, ['Noise', 'Setosa', 'Versicolor', 'Virginica']):\n",
    "        if i == -1:\n",
    "            plt.scatter(data[labels == i, 0], data[labels == i, 3], c=colors[i], label=l, alpha=0.5, s=50, marker='x')\n",
    "        else:\n",
    "            plt.scatter(data[labels == i, 0], data[labels == i, 3], c=colors[i], label=l, alpha=0.5, s=50)\n",
    "    plt.legend()\n",
    "    plt.title(title)\n",
    "    plt.xlabel('Comprimento da Sépala')\n",
    "    plt.ylabel('Largura da Pétala')\n",
    "    plt.show()"
   ]
  },
  {
   "cell_type": "code",
   "execution_count": null,
   "metadata": {},
   "outputs": [],
   "source": [
    "iris.target"
   ]
  },
  {
   "cell_type": "code",
   "execution_count": null,
   "metadata": {},
   "outputs": [],
   "source": [
    "kmeans = KMeans(n_clusters=3, n_init='auto')\n",
    "kmeans.fit(iris.data)\n",
    "print(kmeans.labels_)\n",
    "resultados = confusion_matrix(iris.target, kmeans.labels_)\n",
    "print(resultados)\n",
    "\n",
    "plot_clusters(iris.data, kmeans.labels_, 'Cluster KMeans')"
   ]
  },
  {
   "cell_type": "code",
   "execution_count": null,
   "metadata": {},
   "outputs": [],
   "source": [
    "dbscan = DBSCAN(eps=0.5, min_samples=3)\n",
    "dbscan_labels = dbscan.fit_predict(iris.data)\n",
    "print(dbscan_labels)\n",
    "\n",
    "plot_clusters(iris.data, dbscan_labels, 'Cluster DBSCAN')\n"
   ]
  },
  {
   "cell_type": "code",
   "execution_count": null,
   "metadata": {},
   "outputs": [],
   "source": [
    "agglo = AgglomerativeClustering(n_clusters=3)\n",
    "agglo_labels = agglo.fit_predict(iris.data)\n",
    "print(agglo_labels)\n",
    "resultados = confusion_matrix(iris.target, agglo_labels)\n",
    "print(resultados)\n",
    "\n",
    "plot_clusters(iris.data, agglo_labels, \"Cluster Hierárquico\")"
   ]
  },
  {
   "cell_type": "code",
   "execution_count": null,
   "metadata": {},
   "outputs": [],
   "source": [
    "plt.figure(figsize=(12,6))\n",
    "plt.title('Cluster Hierárquico: Dendrograma')\n",
    "plt.xlabel('Índice')\n",
    "plt.ylabel('Distância')\n",
    "linkage_matrix = linkage(iris.data, method='ward')\n",
    "dendrogram(linkage_matrix, truncate_mode='lastp', p=15)\n",
    "plt.axhline(y=7, c='gray', lw=1, linestyle='dashed')\n",
    "plt.show()"
   ]
  }
 ],
 "metadata": {
  "kernelspec": {
   "display_name": "Python 3",
   "language": "python",
   "name": "python3"
  },
  "language_info": {
   "codemirror_mode": {
    "name": "ipython",
    "version": 3
   },
   "file_extension": ".py",
   "mimetype": "text/x-python",
   "name": "python",
   "nbconvert_exporter": "python",
   "pygments_lexer": "ipython3",
   "version": "3.11.5"
  }
 },
 "nbformat": 4,
 "nbformat_minor": 2
}
