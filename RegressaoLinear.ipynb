{
  "nbformat": 4,
  "nbformat_minor": 0,
  "metadata": {
    "colab": {
      "provenance": [],
      "toc_visible": true,
      "authorship_tag": "ABX9TyPWMlwYnnW7qWcLn1VvZKyc",
      "include_colab_link": true
    },
    "kernelspec": {
      "name": "python3",
      "display_name": "Python 3"
    },
    "language_info": {
      "name": "python"
    }
  },
  "cells": [
    {
      "cell_type": "markdown",
      "metadata": {
        "id": "view-in-github",
        "colab_type": "text"
      },
      "source": [
        "<a href=\"https://colab.research.google.com/github/giancunha/udemy-machine-learning/blob/main/RegressaoLinear.ipynb\" target=\"_parent\"><img src=\"https://colab.research.google.com/assets/colab-badge.svg\" alt=\"Open In Colab\"/></a>"
      ]
    },
    {
      "cell_type": "code",
      "execution_count": null,
      "metadata": {
        "id": "eqM3REroMhAs"
      },
      "outputs": [],
      "source": [
        "from numpy import *\n",
        "\n",
        "class LinearRegression:\n",
        "    def __init__(self, x, y):\n",
        "        self.x = x\n",
        "        self.y = y\n",
        "        self.__correlation_coefficient = self.__correlacao()\n",
        "        self.__inclination = self.__inclinacao()\n",
        "        self.__intercept = self.__interceptacao()\n",
        "\n",
        "    def __correlacao(self):\n",
        "        covariacao = cov(self.x, self.y, bias=True)[0][1]\n",
        "        varianca_x = var(self.x)\n",
        "        varianca_y = var(self.y)\n",
        "        return covariacao / sqrt(varianca_x * varianca_y)\n",
        "\n",
        "    def __inclinacao(self):\n",
        "        stdx = std(self.x)\n",
        "        sdty = std(self.y)\n",
        "        return self.__correlation_coefficient * (sdty / stdx)\n",
        "\n",
        "    def __interceptacao(self):\n",
        "        mediax = mean(self.x)\n",
        "        mediay = mean(self.y)\n",
        "        return mediay - mediax * self.__inclination\n",
        "\n",
        "    def previsao(self, valor):\n",
        "        return self.__intercept + (self.__inclination * valor)"
      ]
    },
    {
      "cell_type": "code",
      "source": [
        "x = array([1,2,3,4,5])\n",
        "y = array([2,4,6,8,10])\n",
        "lr = LinearRegression(x, y)\n",
        "previsao = lr.previsao(6)\n",
        "print(previsao)"
      ],
      "metadata": {
        "colab": {
          "base_uri": "https://localhost:8080/"
        },
        "id": "zPBwcFSgOkNq",
        "outputId": "2db8d40e-ec57-4179-a5ad-03ed2c071b40"
      },
      "execution_count": null,
      "outputs": [
        {
          "output_type": "stream",
          "name": "stdout",
          "text": [
            "12.0\n"
          ]
        }
      ]
    }
  ]
}