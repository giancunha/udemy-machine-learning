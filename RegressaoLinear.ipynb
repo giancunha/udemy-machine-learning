{
  "cells": [
    {
      "cell_type": "markdown",
      "metadata": {
        "colab_type": "text",
        "id": "view-in-github"
      },
      "source": [
        "<a href=\"https://colab.research.google.com/github/giancunha/udemy-machine-learning/blob/main/RegressaoLinear.ipynb\" target=\"_parent\"><img src=\"https://colab.research.google.com/assets/colab-badge.svg\" alt=\"Open In Colab\"/></a>"
      ]
    },
    {
      "cell_type": "code",
      "execution_count": null,
      "metadata": {
        "id": "eqM3REroMhAs"
      },
      "outputs": [],
      "source": [
        "from numpy import *\n",
        "\n",
        "class LinearRegression:\n",
        "    def __init__(self, x, y):\n",
        "        self.x = x\n",
        "        self.y = y\n",
        "        self.__correlation_coefficient = self.__correlacao()\n",
        "        self.__inclination = self.__inclinacao()\n",
        "        self.__intercept = self.__interceptacao()\n",
        "\n",
        "    def __correlacao(self):\n",
        "        covariacao = cov(self.x, self.y, bias=True)[0][1]\n",
        "        varianca_x = var(self.x)\n",
        "        varianca_y = var(self.y)\n",
        "        return covariacao / sqrt(varianca_x * varianca_y)\n",
        "\n",
        "    def __inclinacao(self):\n",
        "        stdx = std(self.x)\n",
        "        sdty = std(self.y)\n",
        "        return self.__correlation_coefficient * (sdty / stdx)\n",
        "\n",
        "    def __interceptacao(self):\n",
        "        mediax = mean(self.x)\n",
        "        mediay = mean(self.y)\n",
        "        return mediay - mediax * self.__inclination\n",
        "\n",
        "    def previsao(self, valor):\n",
        "        return self.__intercept + (self.__inclination * valor)"
      ]
    },
    {
      "cell_type": "code",
      "execution_count": null,
      "metadata": {
        "colab": {
          "base_uri": "https://localhost:8080/"
        },
        "id": "zPBwcFSgOkNq",
        "outputId": "2db8d40e-ec57-4179-a5ad-03ed2c071b40"
      },
      "outputs": [],
      "source": [
        "x = array([1,2,3,4,5])\n",
        "y = array([2,4,6,8,10])\n",
        "lr = LinearRegression(x, y)\n",
        "previsao = lr.previsao(6)\n",
        "print(previsao)"
      ]
    }
  ],
  "metadata": {
    "colab": {
      "authorship_tag": "ABX9TyPWMlwYnnW7qWcLn1VvZKyc",
      "include_colab_link": true,
      "provenance": [],
      "toc_visible": true
    },
    "kernelspec": {
      "display_name": "Python 3",
      "name": "python3"
    },
    "language_info": {
      "codemirror_mode": {
        "name": "ipython",
        "version": 3
      },
      "file_extension": ".py",
      "mimetype": "text/x-python",
      "name": "python",
      "nbconvert_exporter": "python",
      "pygments_lexer": "ipython3",
      "version": "3.11.5"
    }
  },
  "nbformat": 4,
  "nbformat_minor": 0
}
