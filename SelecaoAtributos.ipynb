{
 "cells": [
  {
   "cell_type": "code",
   "execution_count": null,
   "id": "bb6ebae7",
   "metadata": {},
   "outputs": [],
   "source": [
    "import pandas as pd\n",
    "from sklearn.model_selection import train_test_split\n",
    "from sklearn.naive_bayes import GaussianNB\n",
    "from sklearn.metrics import accuracy_score\n",
    "from sklearn.feature_selection import chi2, SelectKBest"
   ]
  },
  {
   "cell_type": "code",
   "execution_count": null,
   "id": "d165e910",
   "metadata": {},
   "outputs": [],
   "source": [
    "anuncio = pd.read_csv('ad.data', header=None)\n",
    "anuncio.shape"
   ]
  },
  {
   "cell_type": "code",
   "execution_count": null,
   "id": "6f967f5b",
   "metadata": {},
   "outputs": [],
   "source": [
    "X = anuncio.iloc[:, :-1].values\n",
    "y = anuncio.iloc[:, -1].values"
   ]
  },
  {
   "cell_type": "code",
   "execution_count": null,
   "id": "979af75a",
   "metadata": {},
   "outputs": [],
   "source": [
    "X"
   ]
  },
  {
   "cell_type": "code",
   "execution_count": null,
   "id": "5991fa8e",
   "metadata": {},
   "outputs": [],
   "source": [
    "y"
   ]
  },
  {
   "cell_type": "code",
   "execution_count": null,
   "id": "50a36345",
   "metadata": {},
   "outputs": [],
   "source": [
    "X_treinamento, X_teste, y_treinamento, y_teste = train_test_split(X, y, test_size=0.3, random_state=0)"
   ]
  },
  {
   "cell_type": "code",
   "execution_count": null,
   "id": "7089076e",
   "metadata": {},
   "outputs": [],
   "source": [
    "modelo1 = GaussianNB()\n",
    "modelo1.fit(X_treinamento, y_treinamento)\n",
    "previsoes1 = modelo1.predict(X_teste)\n",
    "print(\"Acurácia do modelo 1:\", accuracy_score(y_teste, previsoes1))"
   ]
  },
  {
   "cell_type": "code",
   "execution_count": null,
   "id": "1b085a70",
   "metadata": {},
   "outputs": [],
   "source": [
    "selecao = SelectKBest(chi2, k=7)\n",
    "X_novo = selecao.fit_transform(X, y)"
   ]
  },
  {
   "cell_type": "code",
   "execution_count": null,
   "id": "3905a7d4",
   "metadata": {},
   "outputs": [],
   "source": [
    "X_novo"
   ]
  },
  {
   "cell_type": "code",
   "execution_count": null,
   "id": "c65db290",
   "metadata": {},
   "outputs": [],
   "source": [
    "X_novo.shape"
   ]
  },
  {
   "cell_type": "code",
   "execution_count": null,
   "id": "4d7ae43f",
   "metadata": {},
   "outputs": [],
   "source": [
    "print(selecao.get_support())"
   ]
  },
  {
   "cell_type": "code",
   "execution_count": null,
   "id": "45678a53",
   "metadata": {},
   "outputs": [],
   "source": [
    "X_treinamento, X_teste, y_treinamento, y_teste = train_test_split(X_novo, y, test_size=0.3, random_state=0)"
   ]
  },
  {
   "cell_type": "code",
   "execution_count": null,
   "id": "36ef8e9b",
   "metadata": {},
   "outputs": [],
   "source": [
    "modelo2 = GaussianNB()\n",
    "modelo2.fit(X_treinamento, y_treinamento)\n",
    "previsoes2 = modelo2.predict(X_teste)\n",
    "print(\"Acurácia do modelo 2:\", accuracy_score(y_teste, previsoes2))"
   ]
  }
 ],
 "metadata": {
  "kernelspec": {
   "display_name": "Python 3",
   "language": "python",
   "name": "python3"
  },
  "language_info": {
   "codemirror_mode": {
    "name": "ipython",
    "version": 3
   },
   "file_extension": ".py",
   "mimetype": "text/x-python",
   "name": "python",
   "nbconvert_exporter": "python",
   "pygments_lexer": "ipython3",
   "version": "3.11.9"
  }
 },
 "nbformat": 4,
 "nbformat_minor": 5
}
