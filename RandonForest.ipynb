{
 "cells": [
  {
   "cell_type": "code",
   "execution_count": null,
   "metadata": {},
   "outputs": [],
   "source": [
    "import pandas as pd\n",
    "from sklearn.model_selection import train_test_split\n",
    "from sklearn.ensemble import RandomForestClassifier\n",
    "from sklearn.preprocessing import LabelEncoder\n",
    "from sklearn.metrics import (\n",
    "    accuracy_score,\n",
    "    precision_score,\n",
    "    recall_score,\n",
    "    f1_score,\n",
    "    classification_report,\n",
    ")\n",
    "from sklearn.tree import plot_tree\n",
    "import matplotlib.pyplot as plt"
   ]
  },
  {
   "cell_type": "code",
   "execution_count": null,
   "metadata": {},
   "outputs": [],
   "source": [
    "base = pd.read_csv('insurance.csv')"
   ]
  },
  {
   "cell_type": "code",
   "execution_count": null,
   "metadata": {},
   "outputs": [],
   "source": [
    "if 'Unnamed: 0' in base.columns:\n",
    "    base = base.drop(columns=['Unnamed: 0'])"
   ]
  },
  {
   "cell_type": "code",
   "execution_count": null,
   "metadata": {},
   "outputs": [],
   "source": [
    "base = base.fillna(base.mode().iloc[0])"
   ]
  },
  {
   "cell_type": "code",
   "execution_count": null,
   "metadata": {},
   "outputs": [],
   "source": [
    "y = base.iloc[:, 7].values\n",
    "x = base.drop(columns=base.columns[7]).values"
   ]
  },
  {
   "cell_type": "code",
   "execution_count": null,
   "metadata": {},
   "outputs": [],
   "source": [
    "label_encoder = LabelEncoder()\n",
    "for i in range(x.shape[1]):\n",
    "    if x[:, i].dtype == 'object' or isinstance(x[:, i][0], str):\n",
    "        x[:, i] = label_encoder.fit_transform(x[:, i].astype(str))"
   ]
  },
  {
   "cell_type": "code",
   "execution_count": null,
   "metadata": {},
   "outputs": [],
   "source": [
    "# x independentes\n",
    "# y a variável dependente\n",
    "X_treinamento, X_teste, y_treinamento, y_teste = train_test_split(x, y, test_size=0.3, random_state=0)\n"
   ]
  },
  {
   "cell_type": "code",
   "execution_count": null,
   "metadata": {},
   "outputs": [],
   "source": [
    "# 94\n",
    "# modelo = RandomForestClassifier(random_state=1, n_estimators=500)\n",
    "# 92\n",
    "modelo = RandomForestClassifier(random_state=1, n_estimators=500, max_depth=20, max_leaf_nodes=12)\n",
    "modelo.fit(X_treinamento, y_treinamento)"
   ]
  },
  {
   "cell_type": "code",
   "execution_count": null,
   "metadata": {},
   "outputs": [],
   "source": [
    "# impressao\n",
    "tree_index = 0\n",
    "tree_to_visualize = modelo.estimators_[tree_index]\n",
    "plt.figure(figsize=(20, 10))\n",
    "plot_tree(\n",
    "    tree_to_visualize,\n",
    "    filled=True,\n",
    "    feature_names=base.columns[:-1],\n",
    "    class_names=True,\n",
    "    rounded=True,\n",
    ")\n",
    "plt.show()"
   ]
  },
  {
   "cell_type": "code",
   "execution_count": null,
   "metadata": {},
   "outputs": [],
   "source": [
    "y_pred = modelo.predict(X_teste)\n",
    "print(\"Accuracy:\", accuracy_score(y_teste, y_pred))\n",
    "print(\"Precision:\", precision_score(y_teste, y_pred, average='weighted'))\n",
    "print(\"Recall:\", recall_score(y_teste, y_pred, average='weighted'))\n",
    "print(\"F1 Score:\", f1_score(y_teste, y_pred, average='weighted'))\n",
    "print(\"Classification Report:\\n\", classification_report(y_teste, y_pred))"
   ]
  }
 ],
 "metadata": {
  "kernelspec": {
   "display_name": "Python 3",
   "language": "python",
   "name": "python3"
  },
  "language_info": {
   "codemirror_mode": {
    "name": "ipython",
    "version": 3
   },
   "file_extension": ".py",
   "mimetype": "text/x-python",
   "name": "python",
   "nbconvert_exporter": "python",
   "pygments_lexer": "ipython3",
   "version": "3.11.5"
  }
 },
 "nbformat": 4,
 "nbformat_minor": 2
}
