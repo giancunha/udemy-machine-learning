{
 "cells": [
  {
   "cell_type": "code",
   "execution_count": null,
   "id": "6b26478e",
   "metadata": {},
   "outputs": [],
   "source": [
    "from sklearn import datasets\n",
    "import numpy as np\n",
    "from sklearn.preprocessing import scale\n",
    "import matplotlib.pyplot as plt\n",
    "from sklearn.cluster import KMeans"
   ]
  },
  {
   "cell_type": "code",
   "execution_count": null,
   "id": "d72872da",
   "metadata": {},
   "outputs": [],
   "source": [
    "from hopkins import *\n",
    "from metric import *\n",
    "from visual_assessment_of_tendency import *"
   ]
  },
  {
   "cell_type": "code",
   "execution_count": null,
   "id": "c24ebf2c",
   "metadata": {},
   "outputs": [],
   "source": [
    "import warnings\n",
    "warnings.filterwarnings(\"ignore\", category=FutureWarning)"
   ]
  },
  {
   "cell_type": "code",
   "execution_count": null,
   "id": "8974d196",
   "metadata": {},
   "outputs": [],
   "source": [
    "iris = datasets.load_iris()\n",
    "clust1 = scale(iris.data)\n",
    "clust2 = scale(np.random.rand(150, 4))"
   ]
  },
  {
   "cell_type": "code",
   "execution_count": null,
   "id": "8a9d8d1a",
   "metadata": {},
   "outputs": [],
   "source": [
    "print(clust2)"
   ]
  },
  {
   "cell_type": "code",
   "execution_count": null,
   "id": "cd67859b",
   "metadata": {},
   "outputs": [],
   "source": [
    "inertia = []\n",
    "for i in range(1, 8):\n",
    "    kmeans = KMeans(n_clusters=i, n_init='auto')\n",
    "    kmeans.fit(clust1)\n",
    "    inertia.append(kmeans.inertia_)\n",
    "plt.plot(range(1, 8), inertia)\n",
    "plt.title('Elbow')\n",
    "plt.show()"
   ]
  },
  {
   "cell_type": "code",
   "execution_count": null,
   "id": "ab32bef3",
   "metadata": {},
   "outputs": [],
   "source": [
    "inertia = []\n",
    "for i in range(1, 8):\n",
    "    kmeans = KMeans(n_clusters=i, n_init='auto')\n",
    "    kmeans.fit(clust2)\n",
    "    inertia.append(kmeans.inertia_)\n",
    "plt.plot(range(1, 8), inertia)\n",
    "plt.title('Elbow')\n",
    "plt.show()"
   ]
  },
  {
   "cell_type": "code",
   "execution_count": null,
   "id": "a974200e",
   "metadata": {},
   "outputs": [],
   "source": [
    "hopkins(clust1, 150)"
   ]
  },
  {
   "cell_type": "code",
   "execution_count": null,
   "id": "69701f13",
   "metadata": {},
   "outputs": [],
   "source": [
    "hopkins(clust2, 150)"
   ]
  },
  {
   "cell_type": "code",
   "execution_count": null,
   "id": "0c67a1ac",
   "metadata": {},
   "outputs": [],
   "source": [
    "vat(clust1, 150)"
   ]
  },
  {
   "cell_type": "code",
   "execution_count": null,
   "id": "c9a856c0",
   "metadata": {},
   "outputs": [],
   "source": [
    "vat(clust2, 150)"
   ]
  },
  {
   "cell_type": "code",
   "execution_count": null,
   "id": "c6c3e550",
   "metadata": {},
   "outputs": [],
   "source": [
    "ivat(clust1, 150)"
   ]
  },
  {
   "cell_type": "code",
   "execution_count": null,
   "id": "1cdac73c",
   "metadata": {},
   "outputs": [],
   "source": [
    "ivat(clust2, 150)"
   ]
  },
  {
   "cell_type": "code",
   "execution_count": null,
   "id": "4fb79fc1",
   "metadata": {},
   "outputs": [],
   "source": [
    "# m = assess_tendency_by_metric(clust1, 'silhouette', 5)\n",
    "# m = assess_tendency_by_metric(clust1, 'davis_bouldin', 5)\n",
    "m = assess_tendency_by_metric(clust1, 'calinski_harabasz', 5)\n",
    "print(m)"
   ]
  },
  {
   "cell_type": "code",
   "execution_count": null,
   "id": "3bac9f8c",
   "metadata": {},
   "outputs": [],
   "source": [
    "# m = assess_tendency_by_metric(clust1, 'silhouette', 5)\n",
    "# m = assess_tendency_by_metric(clust1, 'davis_bouldin', 5)\n",
    "# m = assess_tendency_by_metric(clust1, 'calinski_harabasz', 5)\n",
    "print(m)"
   ]
  },
  {
   "cell_type": "code",
   "execution_count": null,
   "id": "14652bad",
   "metadata": {},
   "outputs": [],
   "source": [
    "m = assess_tendency_by_mean_metric_score(clust1, 5)\n",
    "print(m)"
   ]
  },
  {
   "cell_type": "code",
   "execution_count": null,
   "id": "1b5979d3",
   "metadata": {},
   "outputs": [],
   "source": [
    "m = assess_tendency_by_mean_metric_score(clust2, 5)\n",
    "print(m)"
   ]
  }
 ],
 "metadata": {
  "kernelspec": {
   "display_name": "Python 3",
   "language": "python",
   "name": "python3"
  },
  "language_info": {
   "codemirror_mode": {
    "name": "ipython",
    "version": 3
   },
   "file_extension": ".py",
   "mimetype": "text/x-python",
   "name": "python",
   "nbconvert_exporter": "python",
   "pygments_lexer": "ipython3",
   "version": "3.11.9"
  }
 },
 "nbformat": 4,
 "nbformat_minor": 5
}
