{
 "cells": [
  {
   "cell_type": "code",
   "execution_count": null,
   "id": "6d9a9318",
   "metadata": {},
   "outputs": [],
   "source": [
    "import pandas as pd\n",
    "from sklearn.preprocessing import LabelEncoder, StandardScaler"
   ]
  },
  {
   "cell_type": "code",
   "execution_count": null,
   "id": "693bb71b",
   "metadata": {},
   "outputs": [],
   "source": [
    "dataset = pd.read_csv('credit_simple.csv', sep=';')\n",
    "dataset.shape"
   ]
  },
  {
   "cell_type": "code",
   "execution_count": null,
   "id": "97b8200d",
   "metadata": {},
   "outputs": [],
   "source": [
    "dataset.head()"
   ]
  },
  {
   "cell_type": "code",
   "execution_count": null,
   "id": "08599a56",
   "metadata": {},
   "outputs": [],
   "source": [
    "y = dataset['CLASSE']\n",
    "X = dataset.iloc[:, :-1]"
   ]
  },
  {
   "cell_type": "code",
   "execution_count": null,
   "id": "7a6cdadf",
   "metadata": {},
   "outputs": [],
   "source": [
    "X.isnull().sum()"
   ]
  },
  {
   "cell_type": "code",
   "execution_count": null,
   "id": "ca0fde08",
   "metadata": {},
   "outputs": [],
   "source": [
    "mediana = X['SALDO_ATUAL'].median()\n",
    "mediana"
   ]
  },
  {
   "cell_type": "code",
   "execution_count": null,
   "id": "f8cc06cd",
   "metadata": {},
   "outputs": [],
   "source": [
    "X['SALDO_ATUAL'].fillna(mediana, inplace=True)\n",
    "X.isnull().sum()"
   ]
  },
  {
   "cell_type": "code",
   "execution_count": null,
   "id": "12b96dcb",
   "metadata": {},
   "outputs": [],
   "source": [
    "agrupado = X.groupby('ESTADOCIVIL').size()\n",
    "agrupado"
   ]
  },
  {
   "cell_type": "code",
   "execution_count": null,
   "id": "90d3de1c",
   "metadata": {},
   "outputs": [],
   "source": [
    "X['ESTADOCIVIL'].fillna('masculino solteiro', inplace=True)\n",
    "X.isnull().sum()"
   ]
  },
  {
   "cell_type": "code",
   "execution_count": null,
   "id": "a495712b",
   "metadata": {},
   "outputs": [],
   "source": [
    "desv = X['SALDO_ATUAL'].std()\n",
    "desv"
   ]
  },
  {
   "cell_type": "code",
   "execution_count": null,
   "id": "ca08236c",
   "metadata": {},
   "outputs": [],
   "source": [
    "X.loc[X['SALDO_ATUAL'] >= 2 * desv, 'SALDO_ATUAL']"
   ]
  },
  {
   "cell_type": "code",
   "execution_count": null,
   "id": "192b8403",
   "metadata": {},
   "outputs": [],
   "source": [
    "mediana = X['SALDO_ATUAL'].median()\n",
    "mediana"
   ]
  },
  {
   "cell_type": "code",
   "execution_count": null,
   "id": "e69cfb22",
   "metadata": {},
   "outputs": [],
   "source": [
    "X.loc[X['SALDO_ATUAL'] >= 2 * desv, 'SALDO_ATUAL'] = mediana\n",
    "X.loc[X['SALDO_ATUAL'] >= 2 * desv]"
   ]
  },
  {
   "cell_type": "code",
   "execution_count": null,
   "id": "80161894",
   "metadata": {},
   "outputs": [],
   "source": [
    "agrupado  = X.groupby('PROPOSITO').size()\n",
    "agrupado"
   ]
  },
  {
   "cell_type": "code",
   "execution_count": null,
   "id": "abcf9a08",
   "metadata": {},
   "outputs": [],
   "source": [
    "X.loc[X['PROPOSITO'] == 'Eletrodomésticos', 'PROPOSITO'] = 'outros'\n",
    "X.loc[X['PROPOSITO'] == 'qualificação', 'PROPOSITO'] = 'outros'\n",
    "agrupado  = X.groupby('PROPOSITO').size()\n",
    "agrupado"
   ]
  },
  {
   "cell_type": "code",
   "execution_count": null,
   "id": "cb46cff3",
   "metadata": {},
   "outputs": [],
   "source": [
    "X['DATA']"
   ]
  },
  {
   "cell_type": "code",
   "execution_count": null,
   "id": "42728a8c",
   "metadata": {},
   "outputs": [],
   "source": [
    "X['DATA'] = pd.to_datetime(X['DATA'], format='%d/%m/%Y')\n"
   ]
  },
  {
   "cell_type": "code",
   "execution_count": null,
   "id": "23d8c43c",
   "metadata": {},
   "outputs": [],
   "source": [
    "X['DATA']"
   ]
  },
  {
   "cell_type": "code",
   "execution_count": null,
   "id": "0fd1f7b7",
   "metadata": {},
   "outputs": [],
   "source": [
    "X[\"ANO\"] = X[\"DATA\"].dt.year\n",
    "X[\"MES\"] = X[\"DATA\"].dt.month\n",
    "X[\"DIASEMANA\"] = X[\"DATA\"].dt.day_name()"
   ]
  },
  {
   "cell_type": "code",
   "execution_count": null,
   "id": "1af8feaf",
   "metadata": {},
   "outputs": [],
   "source": [
    "X['DIASEMANA']"
   ]
  },
  {
   "cell_type": "code",
   "execution_count": null,
   "id": "a4514c1a",
   "metadata": {},
   "outputs": [],
   "source": [
    "X['ESTADOCIVIL'].unique()"
   ]
  },
  {
   "cell_type": "code",
   "execution_count": null,
   "id": "d1ed14a9",
   "metadata": {},
   "outputs": [],
   "source": [
    "X['PROPOSITO'].unique()"
   ]
  },
  {
   "cell_type": "code",
   "execution_count": null,
   "id": "fe28f9e4",
   "metadata": {},
   "outputs": [],
   "source": [
    "X['DIASEMANA'].unique()"
   ]
  },
  {
   "cell_type": "code",
   "execution_count": null,
   "id": "9d885fa9",
   "metadata": {},
   "outputs": [],
   "source": [
    "LabelEncoder1 = LabelEncoder()\n",
    "X['ESTADOCIVIL'] = LabelEncoder1.fit_transform(X['ESTADOCIVIL'])\n",
    "X['PROPOSITO'] = LabelEncoder1.fit_transform(X['PROPOSITO'])\n",
    "X['DIASEMANA'] = LabelEncoder1.fit_transform(X['DIASEMANA'])"
   ]
  },
  {
   "cell_type": "code",
   "execution_count": null,
   "id": "e7178304",
   "metadata": {},
   "outputs": [],
   "source": [
    "X.head()"
   ]
  },
  {
   "cell_type": "code",
   "execution_count": null,
   "id": "8c4a4dc8",
   "metadata": {},
   "outputs": [],
   "source": [
    "outros = X['OUTROSPLANOSPGTO'].unique()\n",
    "outros"
   ]
  },
  {
   "cell_type": "code",
   "execution_count": null,
   "id": "164b2063",
   "metadata": {},
   "outputs": [],
   "source": [
    "z = pd.get_dummies(X['OUTROSPLANOSPGTO'], prefix='OUTROS')"
   ]
  },
  {
   "cell_type": "code",
   "execution_count": null,
   "id": "a4d19387",
   "metadata": {},
   "outputs": [],
   "source": [
    "z"
   ]
  },
  {
   "cell_type": "code",
   "execution_count": null,
   "id": "a5e60f4a",
   "metadata": {},
   "outputs": [],
   "source": [
    "X"
   ]
  },
  {
   "cell_type": "code",
   "execution_count": null,
   "id": "8a304966",
   "metadata": {},
   "outputs": [],
   "source": [
    "sc = StandardScaler()\n",
    "m = sc.fit_transform(X.iloc[:, 0:3])\n",
    "m"
   ]
  },
  {
   "cell_type": "code",
   "execution_count": null,
   "id": "ef0770f3",
   "metadata": {},
   "outputs": [],
   "source": [
    "X = pd.concat([X, z, pd.DataFrame(m,columns=['SALDO_ATUAL_N', 'RESIDENCIADESDE_N', 'IDADE_N'])], axis=1)"
   ]
  },
  {
   "cell_type": "code",
   "execution_count": null,
   "id": "11144ecb",
   "metadata": {},
   "outputs": [],
   "source": [
    "X.head()"
   ]
  },
  {
   "cell_type": "code",
   "execution_count": null,
   "id": "8169a79a",
   "metadata": {},
   "outputs": [],
   "source": [
    "X.drop(columns=['SALDO_ATUAL', 'RESIDENCIADESDE', 'IDADE', 'OUTROSPLANOSPGTO', 'DATA', 'OUTROS_banco'], inplace=True)"
   ]
  },
  {
   "cell_type": "code",
   "execution_count": null,
   "id": "91ea8af7",
   "metadata": {},
   "outputs": [],
   "source": [
    "X"
   ]
  }
 ],
 "metadata": {
  "kernelspec": {
   "display_name": "Python 3",
   "language": "python",
   "name": "python3"
  },
  "language_info": {
   "codemirror_mode": {
    "name": "ipython",
    "version": 3
   },
   "file_extension": ".py",
   "mimetype": "text/x-python",
   "name": "python",
   "nbconvert_exporter": "python",
   "pygments_lexer": "ipython3",
   "version": "3.11.9"
  }
 },
 "nbformat": 4,
 "nbformat_minor": 5
}
